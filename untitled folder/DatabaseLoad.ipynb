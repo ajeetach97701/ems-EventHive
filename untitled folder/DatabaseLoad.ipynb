{
 "cells": [
  {
   "cell_type": "code",
   "execution_count": 72,
   "metadata": {},
   "outputs": [],
   "source": [
    "import pymysql\n",
    "import pandas as pd\n",
    "\n",
    "connection = pymysql.connect(host='localhost',\n",
    "                             user='root',\n",
    "                             password='',\n",
    "                             db='EventVenues')\n",
    "\n"
   ]
  },
  {
   "cell_type": "code",
   "execution_count": 73,
   "metadata": {},
   "outputs": [
    {
     "name": "stderr",
     "output_type": "stream",
     "text": [
      "/var/folders/5g/z9zk1g_90mgfm1t10z41t5qr0000gn/T/ipykernel_17863/959081489.py:2: UserWarning: pandas only supports SQLAlchemy connectable (engine/connection) or database string URI or sqlite3 DBAPI2 connection. Other DBAPI2 objects are not tested. Please consider using SQLAlchemy.\n",
      "  df = pd.read_sql_query('SELECT * FROM EventVenues', connection)\n"
     ]
    }
   ],
   "source": [
    "# execute a SQL query and store the results in a DataFrame\n",
    "df = pd.read_sql_query('SELECT * FROM EventVenues', connection)"
   ]
  },
  {
   "cell_type": "code",
   "execution_count": 62,
   "metadata": {},
   "outputs": [],
   "source": [
    "# display the DataFrame\n",
    "# print(df.head())\n",
    "# create cursor\n",
    "mycursor = connection.cursor()\n"
   ]
  },
  {
   "cell_type": "code",
   "execution_count": 63,
   "metadata": {},
   "outputs": [],
   "source": [
    "# # sql = \"INSERT INTO EventVenues VALUES ('Nepal', '5','7.7', '25', 'Kathmandu', 'Birthday')\""
   ]
  },
  {
   "cell_type": "code",
   "execution_count": 56,
   "metadata": {},
   "outputs": [],
   "source": [
    "sql = \"INSERT INTO EventVenues(`Hotel name`, `Hotel star rating`, `Customer rating`, `City`, `Event_Type`) VALUES (%s, %s, %s, %s, %s)\"\n",
    "values = (\"Mistic Mountain\", \"5\", \"8.1\", \"Kathmandu\", \"Birthday\")\n",
    "mycursor.execute(sql, values)\n",
    "connection.commit()\n"
   ]
  },
  {
   "cell_type": "code",
   "execution_count": 57,
   "metadata": {},
   "outputs": [
    {
     "name": "stdout",
     "output_type": "stream",
     "text": [
      "1 row inserted.\n"
     ]
    }
   ],
   "source": [
    "# print number of inserted rows\n",
    "print(mycursor.rowcount, \"row inserted.\")"
   ]
  },
  {
   "cell_type": "code",
   "execution_count": 74,
   "metadata": {},
   "outputs": [
    {
     "name": "stderr",
     "output_type": "stream",
     "text": [
      "/var/folders/5g/z9zk1g_90mgfm1t10z41t5qr0000gn/T/ipykernel_17863/3761018649.py:1: UserWarning: pandas only supports SQLAlchemy connectable (engine/connection) or database string URI or sqlite3 DBAPI2 connection. Other DBAPI2 objects are not tested. Please consider using SQLAlchemy.\n",
      "  df = pd.read_sql_query('SELECT * FROM EventVenues', connection)\n"
     ]
    }
   ],
   "source": [
    "df = pd.read_sql_query('SELECT * FROM EventVenues', connection)"
   ]
  },
  {
   "cell_type": "code",
   "execution_count": 77,
   "metadata": {},
   "outputs": [
    {
     "data": {
      "text/html": [
       "<div>\n",
       "<style scoped>\n",
       "    .dataframe tbody tr th:only-of-type {\n",
       "        vertical-align: middle;\n",
       "    }\n",
       "\n",
       "    .dataframe tbody tr th {\n",
       "        vertical-align: top;\n",
       "    }\n",
       "\n",
       "    .dataframe thead th {\n",
       "        text-align: right;\n",
       "    }\n",
       "</style>\n",
       "<table border=\"1\" class=\"dataframe\">\n",
       "  <thead>\n",
       "    <tr style=\"text-align: right;\">\n",
       "      <th></th>\n",
       "      <th>ID</th>\n",
       "      <th>Hotel name</th>\n",
       "      <th>Hotel star rating</th>\n",
       "      <th>Customer rating</th>\n",
       "      <th>City</th>\n",
       "      <th>Event_Type</th>\n",
       "    </tr>\n",
       "  </thead>\n",
       "  <tbody>\n",
       "    <tr>\n",
       "      <th>0</th>\n",
       "      <td>1</td>\n",
       "      <td>Europe</td>\n",
       "      <td>5</td>\n",
       "      <td>8</td>\n",
       "      <td>Sarajevo</td>\n",
       "      <td>Birthday</td>\n",
       "    </tr>\n",
       "    <tr>\n",
       "      <th>1</th>\n",
       "      <td>2</td>\n",
       "      <td>Europe</td>\n",
       "      <td>5</td>\n",
       "      <td>8</td>\n",
       "      <td>Sarajevo</td>\n",
       "      <td>Anniversary</td>\n",
       "    </tr>\n",
       "    <tr>\n",
       "      <th>2</th>\n",
       "      <td>3</td>\n",
       "      <td>Hills</td>\n",
       "      <td>5</td>\n",
       "      <td>9</td>\n",
       "      <td>Sarajevo</td>\n",
       "      <td>Birthday</td>\n",
       "    </tr>\n",
       "    <tr>\n",
       "      <th>3</th>\n",
       "      <td>4</td>\n",
       "      <td>Hills</td>\n",
       "      <td>5</td>\n",
       "      <td>9</td>\n",
       "      <td>Sarajevo</td>\n",
       "      <td>Birthday</td>\n",
       "    </tr>\n",
       "    <tr>\n",
       "      <th>4</th>\n",
       "      <td>5</td>\n",
       "      <td>Boutique</td>\n",
       "      <td>4</td>\n",
       "      <td>9</td>\n",
       "      <td>Sarajevo</td>\n",
       "      <td>Marriage</td>\n",
       "    </tr>\n",
       "    <tr>\n",
       "      <th>...</th>\n",
       "      <td>...</td>\n",
       "      <td>...</td>\n",
       "      <td>...</td>\n",
       "      <td>...</td>\n",
       "      <td>...</td>\n",
       "      <td>...</td>\n",
       "    </tr>\n",
       "    <tr>\n",
       "      <th>115</th>\n",
       "      <td>116</td>\n",
       "      <td>WUD Hotel</td>\n",
       "      <td>3</td>\n",
       "      <td>9</td>\n",
       "      <td>Ljubljana</td>\n",
       "      <td>Anniversary</td>\n",
       "    </tr>\n",
       "    <tr>\n",
       "      <th>116</th>\n",
       "      <td>117</td>\n",
       "      <td>uHotel</td>\n",
       "      <td>4</td>\n",
       "      <td>9</td>\n",
       "      <td>Ljubljana</td>\n",
       "      <td>Seminar</td>\n",
       "    </tr>\n",
       "    <tr>\n",
       "      <th>117</th>\n",
       "      <td>118</td>\n",
       "      <td>Allegro Hotel</td>\n",
       "      <td>4</td>\n",
       "      <td>9</td>\n",
       "      <td>Ljubljana</td>\n",
       "      <td>Anniversary</td>\n",
       "    </tr>\n",
       "    <tr>\n",
       "      <th>118</th>\n",
       "      <td>119</td>\n",
       "      <td>M Hotel</td>\n",
       "      <td>4</td>\n",
       "      <td>8</td>\n",
       "      <td>Ljubljana</td>\n",
       "      <td>Anniversary</td>\n",
       "    </tr>\n",
       "    <tr>\n",
       "      <th>119</th>\n",
       "      <td>120</td>\n",
       "      <td>Austria Trend Hotel</td>\n",
       "      <td>4</td>\n",
       "      <td>9</td>\n",
       "      <td>Ljubljana</td>\n",
       "      <td>Seminar</td>\n",
       "    </tr>\n",
       "  </tbody>\n",
       "</table>\n",
       "<p>120 rows × 6 columns</p>\n",
       "</div>"
      ],
      "text/plain": [
       "      ID           Hotel name  Hotel star rating  Customer rating       City   \n",
       "0      1               Europe                  5                8   Sarajevo  \\\n",
       "1      2               Europe                  5                8   Sarajevo   \n",
       "2      3                Hills                  5                9   Sarajevo   \n",
       "3      4                Hills                  5                9   Sarajevo   \n",
       "4      5             Boutique                  4                9   Sarajevo   \n",
       "..   ...                  ...                ...              ...        ...   \n",
       "115  116            WUD Hotel                  3                9  Ljubljana   \n",
       "116  117               uHotel                  4                9  Ljubljana   \n",
       "117  118        Allegro Hotel                  4                9  Ljubljana   \n",
       "118  119              M Hotel                  4                8  Ljubljana   \n",
       "119  120  Austria Trend Hotel                  4                9  Ljubljana   \n",
       "\n",
       "      Event_Type  \n",
       "0       Birthday  \n",
       "1    Anniversary  \n",
       "2       Birthday  \n",
       "3       Birthday  \n",
       "4       Marriage  \n",
       "..           ...  \n",
       "115  Anniversary  \n",
       "116      Seminar  \n",
       "117  Anniversary  \n",
       "118  Anniversary  \n",
       "119      Seminar  \n",
       "\n",
       "[120 rows x 6 columns]"
      ]
     },
     "execution_count": 77,
     "metadata": {},
     "output_type": "execute_result"
    }
   ],
   "source": [
    "df"
   ]
  },
  {
   "cell_type": "code",
   "execution_count": null,
   "metadata": {},
   "outputs": [],
   "source": []
  },
  {
   "cell_type": "code",
   "execution_count": null,
   "metadata": {},
   "outputs": [],
   "source": []
  }
 ],
 "metadata": {
  "kernelspec": {
   "display_name": "Python 3",
   "language": "python",
   "name": "python3"
  },
  "language_info": {
   "codemirror_mode": {
    "name": "ipython",
    "version": 3
   },
   "file_extension": ".py",
   "mimetype": "text/x-python",
   "name": "python",
   "nbconvert_exporter": "python",
   "pygments_lexer": "ipython3",
   "version": "3.11.3"
  },
  "orig_nbformat": 4
 },
 "nbformat": 4,
 "nbformat_minor": 2
}
